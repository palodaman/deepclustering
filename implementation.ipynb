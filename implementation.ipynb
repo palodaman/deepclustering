{
 "cells": [
  {
   "cell_type": "markdown",
   "metadata": {},
   "source": [
    "# Implementation"
   ]
  },
  {
   "cell_type": "code",
   "execution_count": null,
   "metadata": {},
   "outputs": [
    {
     "ename": "",
     "evalue": "",
     "output_type": "error",
     "traceback": [
      "\u001b[1;31mRunning cells with 'Python 3.12.6 64-bit' requires ipykernel package.\n",
      "\u001b[1;31mRun the following command to install 'ipykernel' into the Python environment. \n",
      "\u001b[1;31mCommand: '/opt/homebrew/bin/python3 -m pip install ipykernel -U --user --force-reinstall'"
     ]
    }
   ],
   "source": [
    "# %load_ext autoreload\n",
    "# %autoreload 2\n",
    "# %reload_ext autoreload\n",
    "import numpy as np\n",
    "import argparse\n",
    "from data_loader import load_data, preprocess\n",
    "from model import Autoencoder\n",
    "from trainer import train_autoencoder, get_embeddings\n",
    "from cluster import cluster_embeddings, evaluate_clustering\n",
    "\n",
    "def main(filepath, file_format, n_clusters, encoding_dim, epochs, learning_rate, batch_size, normalize, scale, log_transform, n_top_genes):\n",
    "\n",
    "    #Load and Preprocess Data\n",
    "    print(\"Loading and Preprocessing Data\")\n",
    "    data = load_data(filepath, format=file_format)\n",
    "    processed_data, scaler = preprocess(data, normalize, scale, log_transform, n_top_genes)\n",
    "    input_dim = processed_data.shape[1]\n",
    "\n",
    "    #Define and Train Model\n",
    "    print(\"Defining and Training Model\")\n",
    "    autoencoder = Autoencoder(input_dim, encoding_dim)\n",
    "    trained_model = train_autoencoder(autoencoder, processed_data, epochs, batch_size, learning_rate)\n",
    "\n",
    "    #Get Embeddings\n",
    "    print(\"Obtaining Embeddings\")\n",
    "    embeddings = get_embeddings(trained_model, processed_data)\n",
    "\n",
    "    #Clustering\n",
    "    print(\"Clustering\")\n",
    "    cluster_labels = cluster_embeddings(embeddings, n_clusters)\n",
    "\n",
    "    #Evaluation(if true labels are available)\n",
    "    true_labels = np.random.randint(0, n_clusters, embeddings.shape[0])  # Placeholder\n",
    "    evaluation_results = evaluate_clustering(true_labels, cluster_labels)\n",
    "    print(f\"Clustering Evaluation: ARI={evaluation_results['ARI']:.4f}, NMI={evaluation_results['NMI']:.4f}\")\n",
    "    return cluster_labels, embeddings, scaler\n",
    "\n",
    "#manually set parameters for testing\n",
    "if __name__ == \"__main__\":\n",
    "    filepath = 'scDeepClustering_Sample_Data/mouse_bladder_cell_select_2100.h5'\n",
    "    file_format = 'h5'\n",
    "    n_clusters = 3\n",
    "    encoding_dim = 32\n",
    "    epochs = 100\n",
    "    learning_rate = 0.001\n",
    "    batch_size = 32\n",
    "    normalize = True\n",
    "    scale = True\n",
    "    log_transform = True\n",
    "    n_top_genes = 2000\n",
    "\n",
    "    main(filepath, file_format, n_clusters, encoding_dim, epochs, learning_rate, batch_size, normalize, scale, log_transform, n_top_genes)"
   ]
  }
 ],
 "metadata": {
  "kernelspec": {
   "display_name": "Python 3.12.6 64-bit",
   "language": "python",
   "name": "python3"
  },
  "language_info": {
   "codemirror_mode": {
    "name": "ipython",
    "version": 3
   },
   "file_extension": ".py",
   "mimetype": "text/x-python",
   "name": "python",
   "nbconvert_exporter": "python",
   "pygments_lexer": "ipython3",
   "version": "3.12.6"
  },
  "vscode": {
   "interpreter": {
    "hash": "b0fa6594d8f4cbf19f97940f81e996739fb7646882a419484c72d19e05852a7e"
   }
  }
 },
 "nbformat": 4,
 "nbformat_minor": 2
}
