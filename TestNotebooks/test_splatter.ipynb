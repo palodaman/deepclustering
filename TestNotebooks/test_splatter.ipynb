{
 "cells": [
  {
   "cell_type": "markdown",
   "metadata": {},
   "source": []
  },
  {
   "cell_type": "code",
   "execution_count": 1,
   "metadata": {},
   "outputs": [
    {
     "name": "stderr",
     "output_type": "stream",
     "text": [
      "c:\\Users\\Broondan\\AppData\\Local\\Programs\\Python\\Python312\\Lib\\site-packages\\rpy2\\robjects\\packages.py:367: UserWarning: The symbol 'quartz' is not in this R namespace/package.\n",
      "  warnings.warn(\n"
     ]
    }
   ],
   "source": [
    "import os\n",
    "os.environ[\"R_HOME\"] = \"C:/PROGRA~1/R/R-44~1.2\"\n",
    "\n",
    "import rpy2.robjects as ro\n",
    "from rpy2.robjects.packages import importr\n",
    "splatter = importr(\"splatter\")\n",
    "\n",
    "%load_ext rpy2.ipython"
   ]
  },
  {
   "cell_type": "code",
   "execution_count": null,
   "metadata": {},
   "outputs": [
    {
     "name": "stdout",
     "output_type": "stream",
     "text": [
      "Update all/some/none? [a/s/n]: package 'assorthead' successfully unpacked and MD5 sums checked\n",
      "package 'BiocNeighbors' successfully unpacked and MD5 sums checked\n",
      "package 'cpp11' successfully unpacked and MD5 sums checked\n",
      "package 'curl' successfully unpacked and MD5 sums checked\n",
      "package 'edgeR' successfully unpacked and MD5 sums checked\n",
      "package 'textshaping' successfully unpacked and MD5 sums checked\n",
      "\n",
      "The downloaded binary packages are in\n",
      "\tC:\\Users\\Broondan\\AppData\\Local\\Temp\\RtmpsfkpcX\\downloaded_packages\n"
     ]
    },
    {
     "data": {
      "text/plain": [
       "Bioconductor version 3.20 (BiocManager 1.30.25), R 4.4.2 (2024-10-31 ucrt)\n",
       "Bioconductor version 3.20 (BiocManager 1.30.25), R 4.4.2 (2024-10-31 ucrt)\n",
       "Installation paths not writeable, unable to update packages\n",
       "  path: C:/Program Files/R/R-4.4.2/library\n",
       "  packages:\n",
       "    cluster\n",
       "Old packages: 'assorthead', 'BiocNeighbors', 'cpp11', 'curl', 'edgeR',\n",
       "  'GenomeInfoDb', 'IRanges', 'textshaping'\n",
       "Warning: packages 'GenomeInfoDb', 'IRanges' are in use and will not be installed\n",
       "trying URL 'https://bioconductor.org/packages/3.20/bioc/bin/windows/contrib/4.4/assorthead_1.0.1.zip'\n",
       "Content type 'application/zip' length 2257782 bytes (2.2 MB)\n",
       "downloaded 2.2 MB\n",
       "\n",
       "trying URL 'https://bioconductor.org/packages/3.20/bioc/bin/windows/contrib/4.4/BiocNeighbors_2.0.1.zip'\n",
       "Content type 'application/zip' length 1048980 bytes (1.0 MB)\n",
       "downloaded 1.0 MB\n",
       "\n",
       "trying URL 'https://cloud.r-project.org/bin/windows/contrib/4.4/cpp11_0.5.1.zip'\n",
       "Content type 'application/zip' length 310609 bytes (303 KB)\n",
       "downloaded 303 KB\n",
       "\n",
       "trying URL 'https://cloud.r-project.org/bin/windows/contrib/4.4/curl_6.0.1.zip'\n",
       "Content type 'application/zip' length 3501786 bytes (3.3 MB)\n",
       "downloaded 3.3 MB\n",
       "\n",
       "trying URL 'https://bioconductor.org/packages/3.20/bioc/bin/windows/contrib/4.4/edgeR_4.4.1.zip'\n",
       "Content type 'application/zip' length 2820652 bytes (2.7 MB)\n",
       "downloaded 2.7 MB\n",
       "\n",
       "trying URL 'https://cloud.r-project.org/bin/windows/contrib/4.4/textshaping_0.4.1.zip'\n",
       "Content type 'application/zip' length 1217368 bytes (1.2 MB)\n",
       "downloaded 1.2 MB\n",
       "\n",
       "In addition: Warning message:\n",
       "package(s) not installed when version(s) same as or greater than current; use\n",
       "  `force = TRUE` to re-install: 'splatter' \n"
      ]
     },
     "metadata": {},
     "output_type": "display_data"
    }
   ],
   "source": [
    "%%R\n",
    "if (!require(\"BiocManager\", quietly = TRUE))\n",
    "    install.packages(\"BiocManager\")\n",
    "\n",
    "BiocManager::install(\"splatter\")"
   ]
  },
  {
   "cell_type": "code",
   "execution_count": 12,
   "metadata": {},
   "outputs": [
    {
     "name": "stdout",
     "output_type": "stream",
     "text": [
      "[1] \"\\n\\n\"\n"
     ]
    },
    {
     "name": "stdout",
     "output_type": "stream",
     "text": [
      "package 'Rhdf5lib' successfully unpacked and MD5 sums checked\n",
      "package 'rhdf5filters' successfully unpacked and MD5 sums checked\n",
      "package 'rhdf5' successfully unpacked and MD5 sums checked\n",
      "\n",
      "The downloaded binary packages are in\n",
      "\tC:\\Users\\Broondan\\AppData\\Local\\Temp\\RtmpsfkpcX\\downloaded_packages\n",
      "Update all/some/none? [a/s/n]: "
     ]
    },
    {
     "data": {
      "text/plain": [
       "Warning: package 'repr' is in use and will not be installed\n",
       "'getOption(\"repos\")' replaces Bioconductor standard repositories, see\n",
       "'help(\"repositories\", package = \"BiocManager\")' for details.\n",
       "Replacement repositories:\n",
       "    CRAN: https://cloud.r-project.org\n",
       "Bioconductor version 3.20 (BiocManager 1.30.25), R 4.4.2 (2024-10-31 ucrt)\n",
       "Installing package(s) 'rhdf5'\n",
       "also installing the dependencies 'Rhdf5lib', 'rhdf5filters'\n",
       "\n",
       "trying URL 'https://bioconductor.org/packages/3.20/bioc/bin/windows/contrib/4.4/Rhdf5lib_1.28.0.zip'\n",
       "Content type 'application/zip' length 6544772 bytes (6.2 MB)\n",
       "downloaded 6.2 MB\n",
       "\n",
       "trying URL 'https://bioconductor.org/packages/3.20/bioc/bin/windows/contrib/4.4/rhdf5filters_1.18.0.zip'\n",
       "Content type 'application/zip' length 2339841 bytes (2.2 MB)\n",
       "downloaded 2.2 MB\n",
       "\n",
       "trying URL 'https://bioconductor.org/packages/3.20/bioc/bin/windows/contrib/4.4/rhdf5_2.50.0.zip'\n",
       "Content type 'application/zip' length 4579844 bytes (4.4 MB)\n",
       "downloaded 4.4 MB\n",
       "\n",
       "Installation paths not writeable, unable to update packages\n",
       "  path: C:/Program Files/R/R-4.4.2/library\n",
       "  packages:\n",
       "    cluster\n",
       "Old packages: 'GenomeInfoDb', 'IRanges'\n",
       "Warning: packages 'GenomeInfoDb', 'IRanges' are in use and will not be installed\n"
      ]
     },
     "metadata": {},
     "output_type": "display_data"
    }
   ],
   "source": [
    "%%R\n",
    "install.packages(\"repr\")\n",
    "\n",
    "BiocManager::install(\"rhdf5\")\n"
   ]
  },
  {
   "cell_type": "code",
   "execution_count": 14,
   "metadata": {},
   "outputs": [
    {
     "data": {
      "text/plain": [
       "Getting parameters...\n",
       "Creating simulation object...\n",
       "Simulating library sizes...\n",
       "Simulating gene means...\n",
       "Simulating BCV...\n",
       "Simulating counts...\n",
       "Simulating dropout (if needed)...\n",
       "Sparsifying assays...\n",
       "Automatically converting to sparse matrices, threshold = 0.95\n",
       "Skipping 'BatchCellMeans': estimated sparse size 1.5 * dense matrix\n",
       "Skipping 'BaseCellMeans': estimated sparse size 1.5 * dense matrix\n",
       "Skipping 'BCV': estimated sparse size 1.5 * dense matrix\n",
       "Skipping 'CellMeans': estimated sparse size 1.49 * dense matrix\n",
       "Skipping 'TrueCounts': estimated sparse size 1.64 * dense matrix\n",
       "Skipping 'counts': estimated sparse size 1.64 * dense matrix\n",
       "Done!\n"
      ]
     },
     "metadata": {},
     "output_type": "display_data"
    }
   ],
   "source": [
    "%%R\n",
    "library(splatter)\n",
    "library(rhdf5)\n",
    "\n",
    "set.seed(123)\n",
    "\n",
    "params <- newSplatParams()\n",
    "sim <- splatSimulate(params)\n",
    "\n",
    "counts <- as.data.frame(t(counts(sim)))\n",
    "true_counts <- as.data.frame(t(assays(sim)$TrueCounts))\n",
    "dropout <- assays(sim)$Dropout\n",
    "mode(dropout) <- 'integer'\n",
    "cell_info <- as.data.frame(colData(sim))\n",
    "gene_info <- as.data.frame(rowData(sim))\n",
    "\n",
    "X <- t(counts)\n",
    "Y <- as.integer(substring(cell_info$Group,6))\n",
    "Y <- Y-1\n",
    "\n",
    "\n",
    "# Tutorial code:\n",
    "# sim <- splatSimulate(group.prob=group.prob, nGenes=nGenes, batchCells=batchCells,\n",
    "#                     dropout.type=\"experiment\", method=method,\n",
    "#                     seed=100+i, dropout.shape=-1, dropout.mid=dropout, de.facScale=0.25)"
   ]
  },
  {
   "cell_type": "code",
   "execution_count": null,
   "metadata": {},
   "outputs": [],
   "source": [
    "%%R\n"
   ]
  },
  {
   "cell_type": "code",
   "execution_count": 15,
   "metadata": {},
   "outputs": [
    {
     "name": "stdout",
     "output_type": "stream",
     "text": [
      "Error in data.frame(`x-tsne` = tsne.X$Y[, 1], `y-tsne` = tsne.X$Y[, 2],  : \n",
      "  arguments imply differing number of rows: 100, 0\n"
     ]
    },
    {
     "ename": "RInterpreterError",
     "evalue": "Failed to parse and evaluate line '#### make tSNE plot for the simulated data\\nlibrary(Rtsne)\\nlibrary(ggplot2)\\nlibrary(repr)\\noptions(repr.plot.width=3, repr.plot.height=3)\\n\\nX.normalized <- apply(X, 2, function(z) z/sum(z))\\nX.normalized <- log(X.normalized + 1)\\ntsne.X <- Rtsne(t(X.normalized), max_iter = 1000)\\n  \\ntsne_plot.X <- data.frame(`x-tsne` = tsne.X$Y[,1], `y-tsne` = tsne.X$Y[,2], \\n                        truelabel = Y, check.names = F)\\ntsne_plot.X$truelabel <- factor(tsne_plot.X$truelabel, levels = c(0:max(Y)))\\n\\nggplot(tsne_plot.X) + geom_point(aes(x=`x-tsne`, y=`y-tsne`, color=truelabel), size=0.5) +\\n          labs(color=\\'true label\\') +\\n          ggtitle(\"Simulated data\") +\\n          theme_bw() +\\n          theme(panel.grid.major = element_blank(), panel.grid.minor = element_blank(), \\n                legend.key = element_rect(fill = \\'white\\', colour = \\'white\\'), legend.position=\"none\",\\n                axis.title.y=element_blank(), axis.title.x=element_blank())\\n'.\nR error message: 'Error in data.frame(`x-tsne` = tsne.X$Y[, 1], `y-tsne` = tsne.X$Y[, 2],  : \\n  arguments imply differing number of rows: 100, 0'",
     "output_type": "error",
     "traceback": [
      "\u001b[1;31m---------------------------------------------------------------------------\u001b[0m",
      "\u001b[1;31mRRuntimeError\u001b[0m                             Traceback (most recent call last)",
      "File \u001b[1;32mc:\\Users\\Broondan\\AppData\\Local\\Programs\\Python\\Python312\\Lib\\site-packages\\rpy2\\ipython\\rmagic.py:407\u001b[0m, in \u001b[0;36mRMagics.eval\u001b[1;34m(self, code)\u001b[0m\n\u001b[0;32m    406\u001b[0m     r_expr \u001b[38;5;241m=\u001b[39m ri\u001b[38;5;241m.\u001b[39mparse(code)\n\u001b[1;32m--> 407\u001b[0m     value, visible \u001b[38;5;241m=\u001b[39m \u001b[43mri\u001b[49m\u001b[38;5;241;43m.\u001b[39;49m\u001b[43mevalr_expr_with_visible\u001b[49m\u001b[43m(\u001b[49m\n\u001b[0;32m    408\u001b[0m \u001b[43m        \u001b[49m\u001b[43mr_expr\u001b[49m\n\u001b[0;32m    409\u001b[0m \u001b[43m    \u001b[49m\u001b[43m)\u001b[49m\n\u001b[0;32m    410\u001b[0m \u001b[38;5;28;01mexcept\u001b[39;00m (ri\u001b[38;5;241m.\u001b[39membedded\u001b[38;5;241m.\u001b[39mRRuntimeError, \u001b[38;5;167;01mValueError\u001b[39;00m) \u001b[38;5;28;01mas\u001b[39;00m exception:\n\u001b[0;32m    411\u001b[0m     \u001b[38;5;66;03m# Otherwise next return seems to have copy of error.\u001b[39;00m\n",
      "File \u001b[1;32mc:\\Users\\Broondan\\AppData\\Local\\Programs\\Python\\Python312\\Lib\\site-packages\\rpy2\\rinterface.py:192\u001b[0m, in \u001b[0;36mevalr_expr_with_visible\u001b[1;34m(expr, envir)\u001b[0m\n\u001b[0;32m    191\u001b[0m \u001b[38;5;28;01mif\u001b[39;00m error_occured[\u001b[38;5;241m0\u001b[39m]:\n\u001b[1;32m--> 192\u001b[0m     \u001b[38;5;28;01mraise\u001b[39;00m embedded\u001b[38;5;241m.\u001b[39mRRuntimeError(_rinterface\u001b[38;5;241m.\u001b[39m_geterrmessage())\n\u001b[0;32m    193\u001b[0m res \u001b[38;5;241m=\u001b[39m conversion\u001b[38;5;241m.\u001b[39m_cdata_to_rinterface(r_res)\n",
      "\u001b[1;31mRRuntimeError\u001b[0m: Error in data.frame(`x-tsne` = tsne.X$Y[, 1], `y-tsne` = tsne.X$Y[, 2],  : \n  arguments imply differing number of rows: 100, 0\n",
      "\nDuring handling of the above exception, another exception occurred:\n",
      "\u001b[1;31mRInterpreterError\u001b[0m                         Traceback (most recent call last)",
      "Cell \u001b[1;32mIn[15], line 1\u001b[0m\n\u001b[1;32m----> 1\u001b[0m \u001b[43mget_ipython\u001b[49m\u001b[43m(\u001b[49m\u001b[43m)\u001b[49m\u001b[38;5;241;43m.\u001b[39;49m\u001b[43mrun_cell_magic\u001b[49m\u001b[43m(\u001b[49m\u001b[38;5;124;43m'\u001b[39;49m\u001b[38;5;124;43mR\u001b[39;49m\u001b[38;5;124;43m'\u001b[39;49m\u001b[43m,\u001b[49m\u001b[43m \u001b[49m\u001b[38;5;124;43m'\u001b[39;49m\u001b[38;5;124;43m'\u001b[39;49m\u001b[43m,\u001b[49m\u001b[43m \u001b[49m\u001b[38;5;124;43m'\u001b[39;49m\u001b[38;5;124;43m#### make tSNE plot for the simulated data\u001b[39;49m\u001b[38;5;130;43;01m\\n\u001b[39;49;00m\u001b[38;5;124;43mlibrary(Rtsne)\u001b[39;49m\u001b[38;5;130;43;01m\\n\u001b[39;49;00m\u001b[38;5;124;43mlibrary(ggplot2)\u001b[39;49m\u001b[38;5;130;43;01m\\n\u001b[39;49;00m\u001b[38;5;124;43mlibrary(repr)\u001b[39;49m\u001b[38;5;130;43;01m\\n\u001b[39;49;00m\u001b[38;5;124;43moptions(repr.plot.width=3, repr.plot.height=3)\u001b[39;49m\u001b[38;5;130;43;01m\\n\u001b[39;49;00m\u001b[38;5;130;43;01m\\n\u001b[39;49;00m\u001b[38;5;124;43mX.normalized <- apply(X, 2, function(z) z/sum(z))\u001b[39;49m\u001b[38;5;130;43;01m\\n\u001b[39;49;00m\u001b[38;5;124;43mX.normalized <- log(X.normalized + 1)\u001b[39;49m\u001b[38;5;130;43;01m\\n\u001b[39;49;00m\u001b[38;5;124;43mtsne.X <- Rtsne(t(X.normalized), max_iter = 1000)\u001b[39;49m\u001b[38;5;130;43;01m\\n\u001b[39;49;00m\u001b[38;5;124;43m  \u001b[39;49m\u001b[38;5;130;43;01m\\n\u001b[39;49;00m\u001b[38;5;124;43mtsne_plot.X <- data.frame(`x-tsne` = tsne.X$Y[,1], `y-tsne` = tsne.X$Y[,2], \u001b[39;49m\u001b[38;5;130;43;01m\\n\u001b[39;49;00m\u001b[38;5;124;43m                        truelabel = Y, check.names = F)\u001b[39;49m\u001b[38;5;130;43;01m\\n\u001b[39;49;00m\u001b[38;5;124;43mtsne_plot.X$truelabel <- factor(tsne_plot.X$truelabel, levels = c(0:max(Y)))\u001b[39;49m\u001b[38;5;130;43;01m\\n\u001b[39;49;00m\u001b[38;5;130;43;01m\\n\u001b[39;49;00m\u001b[38;5;124;43mggplot(tsne_plot.X) + geom_point(aes(x=`x-tsne`, y=`y-tsne`, color=truelabel), size=0.5) +\u001b[39;49m\u001b[38;5;130;43;01m\\n\u001b[39;49;00m\u001b[38;5;124;43m          labs(color=\u001b[39;49m\u001b[38;5;130;43;01m\\'\u001b[39;49;00m\u001b[38;5;124;43mtrue label\u001b[39;49m\u001b[38;5;130;43;01m\\'\u001b[39;49;00m\u001b[38;5;124;43m) +\u001b[39;49m\u001b[38;5;130;43;01m\\n\u001b[39;49;00m\u001b[38;5;124;43m          ggtitle(\u001b[39;49m\u001b[38;5;124;43m\"\u001b[39;49m\u001b[38;5;124;43mSimulated data\u001b[39;49m\u001b[38;5;124;43m\"\u001b[39;49m\u001b[38;5;124;43m) +\u001b[39;49m\u001b[38;5;130;43;01m\\n\u001b[39;49;00m\u001b[38;5;124;43m          theme_bw() +\u001b[39;49m\u001b[38;5;130;43;01m\\n\u001b[39;49;00m\u001b[38;5;124;43m          theme(panel.grid.major = element_blank(), panel.grid.minor = element_blank(), \u001b[39;49m\u001b[38;5;130;43;01m\\n\u001b[39;49;00m\u001b[38;5;124;43m                legend.key = element_rect(fill = \u001b[39;49m\u001b[38;5;130;43;01m\\'\u001b[39;49;00m\u001b[38;5;124;43mwhite\u001b[39;49m\u001b[38;5;130;43;01m\\'\u001b[39;49;00m\u001b[38;5;124;43m, colour = \u001b[39;49m\u001b[38;5;130;43;01m\\'\u001b[39;49;00m\u001b[38;5;124;43mwhite\u001b[39;49m\u001b[38;5;130;43;01m\\'\u001b[39;49;00m\u001b[38;5;124;43m), legend.position=\u001b[39;49m\u001b[38;5;124;43m\"\u001b[39;49m\u001b[38;5;124;43mnone\u001b[39;49m\u001b[38;5;124;43m\"\u001b[39;49m\u001b[38;5;124;43m,\u001b[39;49m\u001b[38;5;130;43;01m\\n\u001b[39;49;00m\u001b[38;5;124;43m                axis.title.y=element_blank(), axis.title.x=element_blank())\u001b[39;49m\u001b[38;5;130;43;01m\\n\u001b[39;49;00m\u001b[38;5;124;43m'\u001b[39;49m\u001b[43m)\u001b[49m\n",
      "File \u001b[1;32m~\\AppData\\Roaming\\Python\\Python312\\site-packages\\IPython\\core\\interactiveshell.py:2541\u001b[0m, in \u001b[0;36mInteractiveShell.run_cell_magic\u001b[1;34m(self, magic_name, line, cell)\u001b[0m\n\u001b[0;32m   2539\u001b[0m \u001b[38;5;28;01mwith\u001b[39;00m \u001b[38;5;28mself\u001b[39m\u001b[38;5;241m.\u001b[39mbuiltin_trap:\n\u001b[0;32m   2540\u001b[0m     args \u001b[38;5;241m=\u001b[39m (magic_arg_s, cell)\n\u001b[1;32m-> 2541\u001b[0m     result \u001b[38;5;241m=\u001b[39m \u001b[43mfn\u001b[49m\u001b[43m(\u001b[49m\u001b[38;5;241;43m*\u001b[39;49m\u001b[43margs\u001b[49m\u001b[43m,\u001b[49m\u001b[43m \u001b[49m\u001b[38;5;241;43m*\u001b[39;49m\u001b[38;5;241;43m*\u001b[39;49m\u001b[43mkwargs\u001b[49m\u001b[43m)\u001b[49m\n\u001b[0;32m   2543\u001b[0m \u001b[38;5;66;03m# The code below prevents the output from being displayed\u001b[39;00m\n\u001b[0;32m   2544\u001b[0m \u001b[38;5;66;03m# when using magics with decorator @output_can_be_silenced\u001b[39;00m\n\u001b[0;32m   2545\u001b[0m \u001b[38;5;66;03m# when the last Python token in the expression is a ';'.\u001b[39;00m\n\u001b[0;32m   2546\u001b[0m \u001b[38;5;28;01mif\u001b[39;00m \u001b[38;5;28mgetattr\u001b[39m(fn, magic\u001b[38;5;241m.\u001b[39mMAGIC_OUTPUT_CAN_BE_SILENCED, \u001b[38;5;28;01mFalse\u001b[39;00m):\n",
      "File \u001b[1;32mc:\\Users\\Broondan\\AppData\\Local\\Programs\\Python\\Python312\\Lib\\site-packages\\rpy2\\ipython\\rmagic.py:984\u001b[0m, in \u001b[0;36mRMagics.R\u001b[1;34m(self, line, cell, local_ns)\u001b[0m\n\u001b[0;32m    982\u001b[0m     \u001b[38;5;28;01mif\u001b[39;00m \u001b[38;5;129;01mnot\u001b[39;00m e\u001b[38;5;241m.\u001b[39mstdout\u001b[38;5;241m.\u001b[39mendswith(e\u001b[38;5;241m.\u001b[39merr):\n\u001b[0;32m    983\u001b[0m         \u001b[38;5;28mprint\u001b[39m(e\u001b[38;5;241m.\u001b[39merr)\n\u001b[1;32m--> 984\u001b[0m     \u001b[38;5;28;01mraise\u001b[39;00m e\n\u001b[0;32m    985\u001b[0m \u001b[38;5;28;01mfinally\u001b[39;00m:\n\u001b[0;32m    986\u001b[0m     \u001b[38;5;28;01mif\u001b[39;00m \u001b[38;5;28mself\u001b[39m\u001b[38;5;241m.\u001b[39mdevice \u001b[38;5;129;01min\u001b[39;00m DEVICES_STATIC:\n",
      "File \u001b[1;32mc:\\Users\\Broondan\\AppData\\Local\\Programs\\Python\\Python312\\Lib\\site-packages\\rpy2\\ipython\\rmagic.py:949\u001b[0m, in \u001b[0;36mRMagics.R\u001b[1;34m(self, line, cell, local_ns)\u001b[0m\n\u001b[0;32m    947\u001b[0m         return_output \u001b[38;5;241m=\u001b[39m \u001b[38;5;28;01mFalse\u001b[39;00m\n\u001b[0;32m    948\u001b[0m \u001b[38;5;28;01melse\u001b[39;00m:\n\u001b[1;32m--> 949\u001b[0m     text_result, result, visible \u001b[38;5;241m=\u001b[39m \u001b[38;5;28;43mself\u001b[39;49m\u001b[38;5;241;43m.\u001b[39;49m\u001b[43meval\u001b[49m\u001b[43m(\u001b[49m\u001b[43mcode\u001b[49m\u001b[43m)\u001b[49m\n\u001b[0;32m    950\u001b[0m     text_output \u001b[38;5;241m+\u001b[39m\u001b[38;5;241m=\u001b[39m text_result\n\u001b[0;32m    951\u001b[0m     \u001b[38;5;28;01mif\u001b[39;00m visible:\n",
      "File \u001b[1;32mc:\\Users\\Broondan\\AppData\\Local\\Programs\\Python\\Python312\\Lib\\site-packages\\rpy2\\ipython\\rmagic.py:413\u001b[0m, in \u001b[0;36mRMagics.eval\u001b[1;34m(self, code)\u001b[0m\n\u001b[0;32m    410\u001b[0m \u001b[38;5;28;01mexcept\u001b[39;00m (ri\u001b[38;5;241m.\u001b[39membedded\u001b[38;5;241m.\u001b[39mRRuntimeError, \u001b[38;5;167;01mValueError\u001b[39;00m) \u001b[38;5;28;01mas\u001b[39;00m exception:\n\u001b[0;32m    411\u001b[0m     \u001b[38;5;66;03m# Otherwise next return seems to have copy of error.\u001b[39;00m\n\u001b[0;32m    412\u001b[0m     warning_or_other_msg \u001b[38;5;241m=\u001b[39m \u001b[38;5;28mself\u001b[39m\u001b[38;5;241m.\u001b[39mflush()\n\u001b[1;32m--> 413\u001b[0m     \u001b[38;5;28;01mraise\u001b[39;00m RInterpreterError(code, \u001b[38;5;28mstr\u001b[39m(exception),\n\u001b[0;32m    414\u001b[0m                             warning_or_other_msg)\n\u001b[0;32m    415\u001b[0m \u001b[38;5;28;01mfinally\u001b[39;00m:\n\u001b[0;32m    416\u001b[0m     ro\u001b[38;5;241m.\u001b[39m_print_deferred_warnings()\n",
      "\u001b[1;31mRInterpreterError\u001b[0m: Failed to parse and evaluate line '#### make tSNE plot for the simulated data\\nlibrary(Rtsne)\\nlibrary(ggplot2)\\nlibrary(repr)\\noptions(repr.plot.width=3, repr.plot.height=3)\\n\\nX.normalized <- apply(X, 2, function(z) z/sum(z))\\nX.normalized <- log(X.normalized + 1)\\ntsne.X <- Rtsne(t(X.normalized), max_iter = 1000)\\n  \\ntsne_plot.X <- data.frame(`x-tsne` = tsne.X$Y[,1], `y-tsne` = tsne.X$Y[,2], \\n                        truelabel = Y, check.names = F)\\ntsne_plot.X$truelabel <- factor(tsne_plot.X$truelabel, levels = c(0:max(Y)))\\n\\nggplot(tsne_plot.X) + geom_point(aes(x=`x-tsne`, y=`y-tsne`, color=truelabel), size=0.5) +\\n          labs(color=\\'true label\\') +\\n          ggtitle(\"Simulated data\") +\\n          theme_bw() +\\n          theme(panel.grid.major = element_blank(), panel.grid.minor = element_blank(), \\n                legend.key = element_rect(fill = \\'white\\', colour = \\'white\\'), legend.position=\"none\",\\n                axis.title.y=element_blank(), axis.title.x=element_blank())\\n'.\nR error message: 'Error in data.frame(`x-tsne` = tsne.X$Y[, 1], `y-tsne` = tsne.X$Y[, 2],  : \\n  arguments imply differing number of rows: 100, 0'"
     ]
    }
   ],
   "source": [
    "%%R\n",
    "#### make tSNE plot for the simulated data\n",
    "library(Rtsne)\n",
    "library(ggplot2)\n",
    "library(repr)\n",
    "options(repr.plot.width=3, repr.plot.height=3)\n",
    "\n",
    "X.normalized <- apply(X, 2, function(z) z/sum(z))\n",
    "X.normalized <- log(X.normalized + 1)\n",
    "tsne.X <- Rtsne(t(X.normalized), max_iter = 1000)\n",
    "  \n",
    "tsne_plot.X <- data.frame(`x-tsne` = tsne.X$Y[,1], `y-tsne` = tsne.X$Y[,2], \n",
    "                        truelabel = Y, check.names = F)\n",
    "tsne_plot.X$truelabel <- factor(tsne_plot.X$truelabel, levels = c(0:max(Y)))\n",
    "\n",
    "ggplot(tsne_plot.X) + geom_point(aes(x=`x-tsne`, y=`y-tsne`, color=truelabel), size=0.5) +\n",
    "          labs(color='true label') +\n",
    "          ggtitle(\"Simulated data\") +\n",
    "          theme_bw() +\n",
    "          theme(panel.grid.major = element_blank(), panel.grid.minor = element_blank(), \n",
    "                legend.key = element_rect(fill = 'white', colour = 'white'), legend.position=\"none\",\n",
    "                axis.title.y=element_blank(), axis.title.x=element_blank())"
   ]
  },
  {
   "cell_type": "code",
   "execution_count": null,
   "metadata": {},
   "outputs": [],
   "source": []
  }
 ],
 "metadata": {
  "kernelspec": {
   "display_name": "Python 3",
   "language": "python",
   "name": "python3"
  },
  "language_info": {
   "codemirror_mode": {
    "name": "ipython",
    "version": 3
   },
   "file_extension": ".py",
   "mimetype": "text/x-python",
   "name": "python",
   "nbconvert_exporter": "python",
   "pygments_lexer": "ipython3",
   "version": "3.12.4"
  }
 },
 "nbformat": 4,
 "nbformat_minor": 2
}
